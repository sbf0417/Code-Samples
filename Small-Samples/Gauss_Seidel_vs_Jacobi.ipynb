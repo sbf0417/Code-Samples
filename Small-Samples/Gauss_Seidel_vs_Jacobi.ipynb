{
  "nbformat": 4,
  "nbformat_minor": 0,
  "metadata": {
    "colab": {
      "name": "Math504 Homework 4- Gauss-Seidel vs Jacobi.ipynb",
      "provenance": [],
      "collapsed_sections": []
    },
    "kernelspec": {
      "name": "python3",
      "display_name": "Python 3"
    },
    "language_info": {
      "name": "python"
    }
  },
  "cells": [
    {
      "cell_type": "code",
      "execution_count": null,
      "metadata": {
        "id": "i98E5ylYS5Wk"
      },
      "outputs": [],
      "source": [
        "import numpy as np"
      ]
    },
    {
      "cell_type": "code",
      "source": [
        "#Here, we implement the Gauss-Seidel iterative method for approximating the solution to a sytem of linear equations. This particular implementation of\n",
        "#the algorithm assumes we have an analytical solution, so it is mainly used to facilitate understanding of the algorithm. A more practical implementation\n",
        "#can be found following this cell.\n",
        "\n",
        "def Gauss_Seidel(x0,A,b,xstar,max_iter=1000):\n",
        "  #Changing vectors and matrices to have type float to support detailed computations\n",
        "  A=A.astype(float)\n",
        "  x0=x0.astype(float)\n",
        "  b=b.astype(float)\n",
        "  xstar=xstar.astype(float)\n",
        "  \n",
        "  #Decomposing A into the L+U+D decomposition\n",
        "  L=np.tril(A)\n",
        "  np.fill_diagonal(L,0)\n",
        "  U=np.triu(A)\n",
        "  np.fill_diagonal(U,0)\n",
        "  D=np.triu(np.tril(A))\n",
        "  \n",
        "  #Creating x_(k+1) vector\n",
        "  xkp1=x0\n",
        "  \n",
        "  #Calculating initial error\n",
        "  err=np.linalg.norm(xkp1-xstar)\n",
        "\n",
        "  errs=[]\n",
        "  #Starting iterations\n",
        "  while err>.00001:\n",
        "    for row in range(A.shape[0]):\n",
        "      xkp1[row]=-np.dot(L[row],xkp1)-np.dot(U[row],xkp1)+b[row]\n",
        "      xkp1[row]=np.dot(np.linalg.inv(D)[row],xkp1)\n",
        "    #Checking error\n",
        "    err=np.linalg.norm(xkp1-xstar)\n",
        "    errs.append(err)\n",
        "    #print(f'The error is {err}')\n",
        "\n",
        "  return xkp1,errs\n"
      ],
      "metadata": {
        "id": "B7ZVyoz9S7xu"
      },
      "execution_count": null,
      "outputs": []
    },
    {
      "cell_type": "code",
      "source": [
        "x0=np.transpose(np.array([[1,1,0]]))\n",
        "A=np.array([[3,-1,1],[0,2,1],[-1,1,4]])\n",
        "b=np.transpose(np.array([[-1,0,1]]))\n",
        "xstar=np.transpose(np.array([[-5/12,-1/12,1/6]]))\n",
        "Answer,errs=Gauss_Seidel(x0,A,b,xstar)\n",
        "print(Answer)"
      ],
      "metadata": {
        "colab": {
          "base_uri": "https://localhost:8080/"
        },
        "id": "bneAT9k81DA8",
        "outputId": "c28f8bf8-5908-4a5a-95ac-9d41be31daac"
      },
      "execution_count": null,
      "outputs": [
        {
          "output_type": "stream",
          "name": "stdout",
          "text": [
            "[[-0.41597343]\n",
            " [-0.08305302]\n",
            " [ 0.1667699 ]]\n"
          ]
        }
      ]
    },
    {
      "cell_type": "code",
      "source": [
        "#Here, we make some changes to the implementation above so the algorithm can be used more practically. We alter the function so the user specifies a \n",
        "#threshold to tell the algorithm to stop when the norm of the difference between two consecutive iterations is small enough\n",
        "def Prac_Gauss_Seidel(x0,A,b,eps,max_iter):\n",
        "  #Changing vectors and matrices to have type float to support detailed computations\n",
        "  A=A.astype(float)\n",
        "  x0=x0.astype(float)\n",
        "  b=b.astype(float)\n",
        "  \n",
        "  #Decomposing A into the L+U+D decomposition\n",
        "  L=np.tril(A)\n",
        "  np.fill_diagonal(L,0)\n",
        "  U=np.triu(A)\n",
        "  np.fill_diagonal(U,0)\n",
        "  D=np.triu(np.tril(A))\n",
        "  \n",
        "  #Creating x_(k+1) vector\n",
        "  xkp1=x0\n",
        "  xk=np.zeros(x0.shape,dtype=float)\n",
        "  err=eps+1\n",
        "  iter=0\n",
        "  #Starting iterations\n",
        "  while err>eps:\n",
        "    for row in range(A.shape[0]):\n",
        "      xkp1[row]=-np.dot(L[row],xkp1)-np.dot(U[row],xkp1)+b[row]\n",
        "      xkp1[row]=np.dot(np.linalg.inv(D)[row],xkp1)\n",
        "    err=np.linalg.norm(xkp1-xk)\n",
        "    xk=np.copy(xkp1)\n",
        "\n",
        "    iter=iter+1\n",
        "    if iter==max_iter:\n",
        "      return xkp1\n",
        "    \n",
        "\n",
        "  return xkp1\n"
      ],
      "metadata": {
        "id": "eC2Iwvy3aHAN"
      },
      "execution_count": null,
      "outputs": []
    },
    {
      "cell_type": "code",
      "source": [
        "#We use the same matrix as an example\n",
        "x0=np.transpose(np.array([[1,1,0]]))\n",
        "A=np.array([[3,-1,1],[0,2,1],[-1,1,4]])\n",
        "b=np.transpose(np.array([[-1,0,1]]))\n",
        "xstar=np.transpose(np.array([[-5/12,-1/12,1/6]]))\n",
        "Answer=Prac_Gauss_Seidel(x0,A,b,.0001,100)\n",
        "print(Answer)"
      ],
      "metadata": {
        "colab": {
          "base_uri": "https://localhost:8080/"
        },
        "id": "3Yd1lamxbSLn",
        "outputId": "0fd1954f-01dc-4b37-98ad-77ba81ddd4a3"
      },
      "execution_count": null,
      "outputs": [
        {
          "output_type": "stream",
          "name": "stdout",
          "text": [
            "[[-0.41669309]\n",
            " [-0.08334716]\n",
            " [ 0.16666352]]\n"
          ]
        }
      ]
    },
    {
      "cell_type": "code",
      "source": [
        "#But how does this method differ from the Jacobi method, and which is faster?\n",
        "def Prac_Jacobi(x0,A,b,eps,max_iter):\n",
        "  A=A.astype(float)\n",
        "  x0=x0.astype(float)\n",
        "  b=b.astype(float)\n",
        "  D=np.triu(np.tril(A))\n",
        "  xk=np.zeros(x0.shape)\n",
        "  xkm1=x0\n",
        "\n",
        "  iter=0\n",
        "  err=eps+1\n",
        "  while err>eps:\n",
        "    xk=xkm1+np.matmul(np.linalg.inv(D),b-np.matmul(A,xkm1))\n",
        "    iter=iter+1\n",
        "    if iter==max_iter:\n",
        "      return xk\n",
        "    err=np.linalg.norm(xk-xkm1)\n",
        "    xkm1=np.copy(xk)\n",
        "\n",
        "\n",
        "  return xk\n",
        "\n",
        "def Jacobi(x0,A,b,xstar,max_iter):\n",
        "  A=A.astype(float)\n",
        "  x0=x0.astype(float)\n",
        "  b=b.astype(float)\n",
        "  D=np.triu(np.tril(A))\n",
        "  xk=np.zeros(x0.shape)\n",
        "  xkm1=x0\n",
        "  err=np.linalg.norm(xkm1-xstar)\n",
        "  errs=[]\n",
        "\n",
        "  iter=0\n",
        "  while err>.00001:\n",
        "    xk=xkm1+np.matmul(np.linalg.inv(D),b-np.matmul(A,xkm1))\n",
        "    err=np.linalg.norm(xk-xstar)\n",
        "    errs.append(err)\n",
        "    xkm1=np.copy(xk)\n",
        "    iter=iter+1\n",
        "    if iter==max_iter:\n",
        "      return xk,errs\n",
        "\n",
        "\n",
        "  return xk,errs"
      ],
      "metadata": {
        "id": "xS2V05f5i2YS"
      },
      "execution_count": null,
      "outputs": []
    },
    {
      "cell_type": "code",
      "source": [
        "#Implementing a practical representation of the jacobi method\n",
        "x0=np.transpose(np.array([[1,1,0]]))\n",
        "A=np.array([[3,-1,1],[0,2,1],[-1,1,4]])\n",
        "b=np.transpose(np.array([[-1,0,1]]))\n",
        "xstar=np.transpose(np.array([[-5/12,-1/12,1/6]]))\n",
        "Answer=Prac_Jacobi(x0,A,b,.0001,100)\n",
        "print(Answer)"
      ],
      "metadata": {
        "colab": {
          "base_uri": "https://localhost:8080/"
        },
        "id": "P5ct-QLYKt_Y",
        "outputId": "2764f2ab-2d18-4917-9946-58742ac9cb25"
      },
      "execution_count": null,
      "outputs": [
        {
          "output_type": "stream",
          "name": "stdout",
          "text": [
            "[[-0.41668902]\n",
            " [-0.08333974]\n",
            " [ 0.16667646]]\n"
          ]
        }
      ]
    },
    {
      "cell_type": "code",
      "source": [
        "#Here, we compare the speeds at which Jacobi and Gauss-Seidel Converge while finding a\n",
        "#solution to the same system of linear equations\n",
        "\n",
        "A=np.array([[20,6,9,-1],[5,40,7,11],[8,6,21,2],[8,9,10,37]])\n",
        "b=np.transpose(np.array([[1,2,5,-5]]))\n",
        "xstar=np.transpose(np.array([[-6961/65331,32429/457317,127087/457317,-5500/26901]]))\n",
        "x0=np.transpose(np.array([[1,2,3,4]]))\n",
        "#jacSol=Jacobi(x0,A,b,xstar)\n",
        "jacobi_sol,jacobi_errs=Jacobi(x0,A,b,xstar,max_iter=1000)\n",
        "gaus_sol,gauss_errs=Gauss_Seidel(x0,A,b,xstar)"
      ],
      "metadata": {
        "id": "SKHqsl5gNB_z"
      },
      "execution_count": null,
      "outputs": []
    },
    {
      "cell_type": "code",
      "source": [
        "import matplotlib.pyplot as plt\n",
        "jxvals=np.arange(0,len(jacobi_errs))\n",
        "gxvals=np.arange(0,len(gauss_errs))\n",
        "fig=plt.figure()\n",
        "ax=plt.axes()\n",
        "ax.set_xlabel('Iteration')\n",
        "ax.set_ylabel('Error')\n",
        "ax.set_title('Gauss-Seidel and Jacobi Convergence Speed')\n",
        "ax.plot(jxvals,jacobi_errs,label='Jacobi')\n",
        "ax.plot(gxvals,gauss_errs,label='Gauss-Seidel')\n",
        "ax.scatter(jxvals,jacobi_errs)\n",
        "ax.scatter(gxvals,gauss_errs)\n",
        "ax.legend(loc='upper right')\n",
        "#Here, we can see that the Gauss-Seidel method converges to a solution nearly 4 times faster in this case. This is because the ith value of the\n",
        "#solution vector is being used to calculate the i+1th value of the solution vector which is not the case in the jacobi method."
      ],
      "metadata": {
        "colab": {
          "base_uri": "https://localhost:8080/",
          "height": 312
        },
        "id": "K9YGMokRiEQe",
        "outputId": "c59a5493-ee7e-4fe7-cc6d-eb3d9573dbf8"
      },
      "execution_count": null,
      "outputs": [
        {
          "output_type": "execute_result",
          "data": {
            "text/plain": [
              "<matplotlib.legend.Legend at 0x7f62c13ffad0>"
            ]
          },
          "metadata": {},
          "execution_count": 105
        },
        {
          "output_type": "display_data",
          "data": {
            "image/png": "[encoded data removed]",
            "text/plain": [
              "<Figure size 432x288 with 1 Axes>"
            ]
          },
          "metadata": {
            "needs_background": "light"
          }
        }
      ]
    }
  ]
}
